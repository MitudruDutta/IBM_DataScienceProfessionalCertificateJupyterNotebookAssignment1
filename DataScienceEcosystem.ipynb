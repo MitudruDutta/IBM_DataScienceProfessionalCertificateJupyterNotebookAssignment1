{
 "cells": [
  {
   "cell_type": "markdown",
   "id": "bae4cc18-05b4-4273-8e02-66e8fb48112e",
   "metadata": {},
   "source": [
    "# Data Science Tools and Ecosystem"
   ]
  },
  {
   "cell_type": "markdown",
   "id": "a2d89a83-ebd4-4d26-a794-ba4243f8d7fb",
   "metadata": {},
   "source": [
    "## Author\n",
    "    Mitudru Dutta"
   ]
  },
  {
   "cell_type": "markdown",
   "id": "f6b67388-41f9-4de8-acd4-d654cd8553b1",
   "metadata": {},
   "source": [
    "In this notebook, Data Science Tools and Ecosystem are summarized"
   ]
  },
  {
   "cell_type": "markdown",
   "id": "80d4741f-b612-4fe6-8fba-ac39757388a3",
   "metadata": {},
   "source": [
    "__Objectives__:\n",
    "+ List of popular languages that Data Scientists use.\n",
    "+ List of commonly used libraries used by Data Scientists.\n",
    "+ Some of the Data Science Tools\n",
    "+ Evaluating some arithmetic Operations "
   ]
  },
  {
   "cell_type": "markdown",
   "id": "c3b58b61-dd85-4b0c-847f-9cb3e9c118f2",
   "metadata": {},
   "source": [
    "Some of the popular languages that Data Scientists use are:\n",
    "1. Python\n",
    "2. R\n",
    "3. SQL\n",
    "4. JavaScript"
   ]
  },
  {
   "cell_type": "markdown",
   "id": "dc8567c6-1578-47fe-a456-c0ae76e19f0e",
   "metadata": {},
   "source": [
    "Some of the commonly used libraries used by Data Scientists include:\n",
    "1. NumPy\n",
    "2. Pandas\n",
    "3. Matplotlib\n",
    "4. Seaborn\n",
    "5. Scikit-Learn\n",
    "6. TensorFlow\n",
    "7. PyTorch"
   ]
  },
  {
   "cell_type": "markdown",
   "id": "f52edf3e-21d7-4fbc-983a-2e94cd85d955",
   "metadata": {},
   "source": [
    "| Data Science Tools |\n",
    "| ------------------ |\n",
    "|     Juypyter       |\n",
    "|     R Studio       |\n",
    "|   Apache Zeppelin  |"
   ]
  },
  {
   "cell_type": "markdown",
   "id": "b31d944b-5306-46de-ab2b-0def56e31911",
   "metadata": {},
   "source": [
    "### Below are a few examples of evaluating arithmetic expressions in Python"
   ]
  },
  {
   "cell_type": "code",
   "execution_count": 21,
   "id": "9d0dca6f-41fd-4f6a-bb02-4001447a3f33",
   "metadata": {},
   "outputs": [
    {
     "data": {
      "text/plain": [
       "17"
      ]
     },
     "execution_count": 21,
     "metadata": {},
     "output_type": "execute_result"
    }
   ],
   "source": [
    "## This a simple arithmetic expression to mutiply then add integers\n",
    "(3*4)+5"
   ]
  },
  {
   "cell_type": "code",
   "execution_count": 39,
   "id": "fe34fc61-f1ae-4de3-81e6-e32d6bb47c92",
   "metadata": {
    "scrolled": true
   },
   "outputs": [
    {
     "data": {
      "text/plain": [
       "3.3333333333333335"
      ]
     },
     "execution_count": 39,
     "metadata": {},
     "output_type": "execute_result"
    }
   ],
   "source": [
    "## This will convert 200 minutes to hours by dividing by 60\n",
    "## hours = minutes/60\n",
    "200/60"
   ]
  }
 ],
 "metadata": {
  "kernelspec": {
   "display_name": "Python 3 (ipykernel)",
   "language": "python",
   "name": "python3"
  },
  "language_info": {
   "codemirror_mode": {
    "name": "ipython",
    "version": 3
   },
   "file_extension": ".py",
   "mimetype": "text/x-python",
   "name": "python",
   "nbconvert_exporter": "python",
   "pygments_lexer": "ipython3",
   "version": "3.12.4"
  }
 },
 "nbformat": 4,
 "nbformat_minor": 5
}
